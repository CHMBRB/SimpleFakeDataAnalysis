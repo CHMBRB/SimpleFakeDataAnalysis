{
 "cells": [
  {
   "cell_type": "markdown",
   "metadata": {},
   "source": [
    "# Table of Contents\n",
    "\n",
    "All sections and a brief description will be listed here such that we do not accidentally cover the same topic more than once.\n",
    "\n",
    "001. [Getting Started](001-Getting-Started.ipynb) &mdash; A brief introduction and statement of intent.\n",
    "002. [Python 101 For The Uninitiated](002-Python-101-For-The-Uninitiated.ipynb) &mdash; A quick python crash course demonstrating common techniques.\n",
    "003. [Data In, Data Out](003-Data-In-Data-Out.ipynb) &mdash; A demonstration of loading/storing data in various formats with pandas.\n",
    "004. [Working With Data](004-Working-With-Data.ipynb) &mdash; A series of operations intended to reflect real-life applications.\n",
    "005. [Pivot Tables And Charts](005-Pivot-Tables-And-Charts.ipynb) &mdash; A follow-along with an excel-easy tutorial.\n",
    "\n",
    "<!--\n",
    "Ideas:\n",
    "1. amortization schedule generation\n",
    "2. dataframe iterrows and write to pdf\n",
    "3. requests library and parsing html into dataframes\n",
    "4. ???\n",
    "-->"
   ]
  }
 ],
 "metadata": {
  "language_info": {
   "name": "python"
  }
 },
 "nbformat": 4,
 "nbformat_minor": 2
}
